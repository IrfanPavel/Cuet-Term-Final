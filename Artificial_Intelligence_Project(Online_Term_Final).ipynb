{
  "nbformat": 4,
  "nbformat_minor": 0,
  "metadata": {
    "colab": {
      "name": "Artificial Intelligence Project(Online Term Final).ipynb",
      "provenance": [],
      "authorship_tag": "ABX9TyMvdmkAEPkco7T1Wh3BRXpj",
      "include_colab_link": true
    },
    "kernelspec": {
      "name": "python3",
      "display_name": "Python 3"
    },
    "language_info": {
      "name": "python"
    }
  },
  "cells": [
    {
      "cell_type": "markdown",
      "metadata": {
        "id": "view-in-github",
        "colab_type": "text"
      },
      "source": [
        "<a href=\"https://colab.research.google.com/github/IrfanPavel/Cuet-Term-Final/blob/main/Artificial_Intelligence_Project(Online_Term_Final).ipynb\" target=\"_parent\"><img src=\"https://colab.research.google.com/assets/colab-badge.svg\" alt=\"Open In Colab\"/></a>"
      ]
    },
    {
      "cell_type": "markdown",
      "source": [
        "# 1.Creating The **DataSet**"
      ],
      "metadata": {
        "id": "aiFtJntuEGkz"
      }
    },
    {
      "cell_type": "code",
      "source": [
        "import pandas as pd\n",
        "import numpy as np"
      ],
      "metadata": {
        "id": "LsxvPyceDHmO"
      },
      "execution_count": 1,
      "outputs": []
    },
    {
      "cell_type": "markdown",
      "source": [
        "# **Generating Area Column Data**"
      ],
      "metadata": {
        "id": "BNFJG5gmER03"
      }
    },
    {
      "cell_type": "code",
      "source": [
        "np.random.seed(42)\n",
        "import random\n",
        "l1 = [\"Town\", \"Village\"]\n",
        "Area=[]\n",
        "for x in range(5000):\n",
        "    rand = random.randint(0, 1)\n",
        "    Area.append(l1[rand])\n",
        "    "
      ],
      "metadata": {
        "id": "cO4xOTfpE0FJ"
      },
      "execution_count": 2,
      "outputs": []
    },
    {
      "cell_type": "code",
      "source": [
        "Area=pd.Series(Area)"
      ],
      "metadata": {
        "id": "y3FKUJ5IDN6z"
      },
      "execution_count": 3,
      "outputs": []
    },
    {
      "cell_type": "markdown",
      "source": [
        "\n",
        "# **Generating SmartPhone Column Data**"
      ],
      "metadata": {
        "id": "-qshW3vDEZRn"
      }
    },
    {
      "cell_type": "code",
      "source": [
        "np.random.seed(42)\n",
        "l1 = [\"yes\", \"no\"]\n",
        "SmartPhone=[]\n",
        "for x in range(4800):\n",
        "    rand = random.randint(0, 1)\n",
        "    SmartPhone.append(l1[rand])"
      ],
      "metadata": {
        "id": "1eOPlPAKE3n5"
      },
      "execution_count": 4,
      "outputs": []
    },
    {
      "cell_type": "code",
      "source": [
        "SmartPhone=pd.Series(SmartPhone)"
      ],
      "metadata": {
        "id": "zZIg32mfDrl3"
      },
      "execution_count": 5,
      "outputs": []
    },
    {
      "cell_type": "markdown",
      "source": [
        "# **Generating Multiple Devices Column Data**"
      ],
      "metadata": {
        "id": "umDe-M4VE6-_"
      }
    },
    {
      "cell_type": "code",
      "source": [
        "np.random.seed(42)\n",
        "l1 = [\"yes\", \"no\"]\n",
        "MultipleDevices=[]\n",
        "for x in range(4900):\n",
        "    rand = random.randint(0, 1)\n",
        "    MultipleDevices.append(l1[rand])"
      ],
      "metadata": {
        "id": "1n63wv0ADyPK"
      },
      "execution_count": 6,
      "outputs": []
    },
    {
      "cell_type": "code",
      "source": [
        "MultipleDevices=pd.Series(MultipleDevices)"
      ],
      "metadata": {
        "id": "vrz_l8P0EAMO"
      },
      "execution_count": 7,
      "outputs": []
    },
    {
      "cell_type": "markdown",
      "source": [
        "# **Generating Wifi Column Data**"
      ],
      "metadata": {
        "id": "dD5GkutkEgHZ"
      }
    },
    {
      "cell_type": "code",
      "source": [
        "np.random.seed(42)\n",
        "l1 = [\"yes\", \"no\"]\n",
        "Wifi=[]\n",
        "for x in range(4700):\n",
        "    rand = random.randint(0, 1)\n",
        "    Wifi.append(l1[rand])"
      ],
      "metadata": {
        "id": "xBI12fz_EFb9"
      },
      "execution_count": 8,
      "outputs": []
    },
    {
      "cell_type": "code",
      "source": [
        "Wifi=pd.Series(Wifi)"
      ],
      "metadata": {
        "id": "BgbXOA5oF8PL"
      },
      "execution_count": 9,
      "outputs": []
    },
    {
      "cell_type": "markdown",
      "source": [
        "# **Generating Electricity Problem Column Data**"
      ],
      "metadata": {
        "id": "yRLmSY6qGEEB"
      }
    },
    {
      "cell_type": "code",
      "source": [
        "np.random.seed(42)\n",
        "l1 = [\"yes\", \"no\"]\n",
        "Electricity=[]\n",
        "for x in range(4901):\n",
        "    rand = random.randint(0, 1)\n",
        "    Electricity.append(l1[rand])"
      ],
      "metadata": {
        "id": "EJy0icTgGL5k"
      },
      "execution_count": 10,
      "outputs": []
    },
    {
      "cell_type": "code",
      "source": [
        "Electricity=pd.Series(Electricity)"
      ],
      "metadata": {
        "id": "mUaUU1TAHBY1"
      },
      "execution_count": 11,
      "outputs": []
    },
    {
      "cell_type": "markdown",
      "source": [
        "# Generating The Target **Column**"
      ],
      "metadata": {
        "id": "wNA5N6SYJCdh"
      }
    },
    {
      "cell_type": "code",
      "source": [
        "np.random.seed(42)\n",
        "l1 = [\"Online\", \"Offline\"]\n",
        "Target=[]\n",
        "for x in range(5000):\n",
        "    rand = random.randint(0, 1)\n",
        "    Target.append(l1[rand])"
      ],
      "metadata": {
        "id": "bXIxBV1xJG3h"
      },
      "execution_count": 12,
      "outputs": []
    },
    {
      "cell_type": "code",
      "source": [
        "Target=pd.Series(Target)"
      ],
      "metadata": {
        "id": "M90ubMY3Jbi4"
      },
      "execution_count": 13,
      "outputs": []
    },
    {
      "cell_type": "markdown",
      "source": [
        "# **Creating The DataFrame**"
      ],
      "metadata": {
        "id": "BLBhmhvaJmNl"
      }
    },
    {
      "cell_type": "code",
      "source": [
        "Cuet_Term_Final=pd.DataFrame({\"Area\":Area,\n",
        "                              \"Smart Phone\":SmartPhone,\n",
        "                              \"Multiple Devices\":MultipleDevices,\n",
        "                              \"Wifi\":Wifi,\n",
        "                              \"Electricity Problem\":Electricity,\n",
        "                              \"Online/Offline\":Target})"
      ],
      "metadata": {
        "id": "bN8GHN8NJpiJ"
      },
      "execution_count": 14,
      "outputs": []
    },
    {
      "cell_type": "code",
      "source": [
        "Cuet_Term_Final"
      ],
      "metadata": {
        "colab": {
          "base_uri": "https://localhost:8080/",
          "height": 423
        },
        "id": "jgwT_KUDK2gK",
        "outputId": "47477a19-80cc-4ee7-e27a-29d82affc2da"
      },
      "execution_count": 15,
      "outputs": [
        {
          "output_type": "execute_result",
          "data": {
            "text/html": [
              "<div>\n",
              "<style scoped>\n",
              "    .dataframe tbody tr th:only-of-type {\n",
              "        vertical-align: middle;\n",
              "    }\n",
              "\n",
              "    .dataframe tbody tr th {\n",
              "        vertical-align: top;\n",
              "    }\n",
              "\n",
              "    .dataframe thead th {\n",
              "        text-align: right;\n",
              "    }\n",
              "</style>\n",
              "<table border=\"1\" class=\"dataframe\">\n",
              "  <thead>\n",
              "    <tr style=\"text-align: right;\">\n",
              "      <th></th>\n",
              "      <th>Area</th>\n",
              "      <th>Smart Phone</th>\n",
              "      <th>Multiple Devices</th>\n",
              "      <th>Wifi</th>\n",
              "      <th>Electricity Problem</th>\n",
              "      <th>Online/Offline</th>\n",
              "    </tr>\n",
              "  </thead>\n",
              "  <tbody>\n",
              "    <tr>\n",
              "      <th>0</th>\n",
              "      <td>Village</td>\n",
              "      <td>no</td>\n",
              "      <td>no</td>\n",
              "      <td>no</td>\n",
              "      <td>no</td>\n",
              "      <td>Offline</td>\n",
              "    </tr>\n",
              "    <tr>\n",
              "      <th>1</th>\n",
              "      <td>Town</td>\n",
              "      <td>yes</td>\n",
              "      <td>no</td>\n",
              "      <td>yes</td>\n",
              "      <td>yes</td>\n",
              "      <td>Offline</td>\n",
              "    </tr>\n",
              "    <tr>\n",
              "      <th>2</th>\n",
              "      <td>Village</td>\n",
              "      <td>yes</td>\n",
              "      <td>yes</td>\n",
              "      <td>yes</td>\n",
              "      <td>yes</td>\n",
              "      <td>Online</td>\n",
              "    </tr>\n",
              "    <tr>\n",
              "      <th>3</th>\n",
              "      <td>Town</td>\n",
              "      <td>no</td>\n",
              "      <td>yes</td>\n",
              "      <td>yes</td>\n",
              "      <td>no</td>\n",
              "      <td>Offline</td>\n",
              "    </tr>\n",
              "    <tr>\n",
              "      <th>4</th>\n",
              "      <td>Town</td>\n",
              "      <td>no</td>\n",
              "      <td>no</td>\n",
              "      <td>no</td>\n",
              "      <td>yes</td>\n",
              "      <td>Online</td>\n",
              "    </tr>\n",
              "    <tr>\n",
              "      <th>...</th>\n",
              "      <td>...</td>\n",
              "      <td>...</td>\n",
              "      <td>...</td>\n",
              "      <td>...</td>\n",
              "      <td>...</td>\n",
              "      <td>...</td>\n",
              "    </tr>\n",
              "    <tr>\n",
              "      <th>4995</th>\n",
              "      <td>Village</td>\n",
              "      <td>NaN</td>\n",
              "      <td>NaN</td>\n",
              "      <td>NaN</td>\n",
              "      <td>NaN</td>\n",
              "      <td>Offline</td>\n",
              "    </tr>\n",
              "    <tr>\n",
              "      <th>4996</th>\n",
              "      <td>Village</td>\n",
              "      <td>NaN</td>\n",
              "      <td>NaN</td>\n",
              "      <td>NaN</td>\n",
              "      <td>NaN</td>\n",
              "      <td>Online</td>\n",
              "    </tr>\n",
              "    <tr>\n",
              "      <th>4997</th>\n",
              "      <td>Village</td>\n",
              "      <td>NaN</td>\n",
              "      <td>NaN</td>\n",
              "      <td>NaN</td>\n",
              "      <td>NaN</td>\n",
              "      <td>Online</td>\n",
              "    </tr>\n",
              "    <tr>\n",
              "      <th>4998</th>\n",
              "      <td>Town</td>\n",
              "      <td>NaN</td>\n",
              "      <td>NaN</td>\n",
              "      <td>NaN</td>\n",
              "      <td>NaN</td>\n",
              "      <td>Offline</td>\n",
              "    </tr>\n",
              "    <tr>\n",
              "      <th>4999</th>\n",
              "      <td>Village</td>\n",
              "      <td>NaN</td>\n",
              "      <td>NaN</td>\n",
              "      <td>NaN</td>\n",
              "      <td>NaN</td>\n",
              "      <td>Offline</td>\n",
              "    </tr>\n",
              "  </tbody>\n",
              "</table>\n",
              "<p>5000 rows × 6 columns</p>\n",
              "</div>"
            ],
            "text/plain": [
              "         Area Smart Phone  ... Electricity Problem Online/Offline\n",
              "0     Village          no  ...                  no        Offline\n",
              "1        Town         yes  ...                 yes        Offline\n",
              "2     Village         yes  ...                 yes         Online\n",
              "3        Town          no  ...                  no        Offline\n",
              "4        Town          no  ...                 yes         Online\n",
              "...       ...         ...  ...                 ...            ...\n",
              "4995  Village         NaN  ...                 NaN        Offline\n",
              "4996  Village         NaN  ...                 NaN         Online\n",
              "4997  Village         NaN  ...                 NaN         Online\n",
              "4998     Town         NaN  ...                 NaN        Offline\n",
              "4999  Village         NaN  ...                 NaN        Offline\n",
              "\n",
              "[5000 rows x 6 columns]"
            ]
          },
          "metadata": {},
          "execution_count": 15
        }
      ]
    },
    {
      "cell_type": "markdown",
      "source": [
        "# **Exporting The Data To Csv File**"
      ],
      "metadata": {
        "id": "V6mJGvsHLFRn"
      }
    },
    {
      "cell_type": "code",
      "source": [
        "# car_sales.to_csv(\"../data/exported-car-sales.csv\")\n",
        "\n",
        "Cuet_Term_Final.to_csv(\"D:\\AI Project\\cuet-term-final.csv\")"
      ],
      "metadata": {
        "id": "99Kgv98qLLkX"
      },
      "execution_count": 16,
      "outputs": []
    },
    {
      "cell_type": "code",
      "source": [
        "Cuet_Term_Final"
      ],
      "metadata": {
        "id": "qXoVaW5TL1CB",
        "colab": {
          "base_uri": "https://localhost:8080/",
          "height": 423
        },
        "outputId": "e33a226c-925a-463b-a764-1b9d68051abd"
      },
      "execution_count": 17,
      "outputs": [
        {
          "output_type": "execute_result",
          "data": {
            "text/html": [
              "<div>\n",
              "<style scoped>\n",
              "    .dataframe tbody tr th:only-of-type {\n",
              "        vertical-align: middle;\n",
              "    }\n",
              "\n",
              "    .dataframe tbody tr th {\n",
              "        vertical-align: top;\n",
              "    }\n",
              "\n",
              "    .dataframe thead th {\n",
              "        text-align: right;\n",
              "    }\n",
              "</style>\n",
              "<table border=\"1\" class=\"dataframe\">\n",
              "  <thead>\n",
              "    <tr style=\"text-align: right;\">\n",
              "      <th></th>\n",
              "      <th>Area</th>\n",
              "      <th>Smart Phone</th>\n",
              "      <th>Multiple Devices</th>\n",
              "      <th>Wifi</th>\n",
              "      <th>Electricity Problem</th>\n",
              "      <th>Online/Offline</th>\n",
              "    </tr>\n",
              "  </thead>\n",
              "  <tbody>\n",
              "    <tr>\n",
              "      <th>0</th>\n",
              "      <td>Village</td>\n",
              "      <td>no</td>\n",
              "      <td>no</td>\n",
              "      <td>no</td>\n",
              "      <td>no</td>\n",
              "      <td>Offline</td>\n",
              "    </tr>\n",
              "    <tr>\n",
              "      <th>1</th>\n",
              "      <td>Town</td>\n",
              "      <td>yes</td>\n",
              "      <td>no</td>\n",
              "      <td>yes</td>\n",
              "      <td>yes</td>\n",
              "      <td>Offline</td>\n",
              "    </tr>\n",
              "    <tr>\n",
              "      <th>2</th>\n",
              "      <td>Village</td>\n",
              "      <td>yes</td>\n",
              "      <td>yes</td>\n",
              "      <td>yes</td>\n",
              "      <td>yes</td>\n",
              "      <td>Online</td>\n",
              "    </tr>\n",
              "    <tr>\n",
              "      <th>3</th>\n",
              "      <td>Town</td>\n",
              "      <td>no</td>\n",
              "      <td>yes</td>\n",
              "      <td>yes</td>\n",
              "      <td>no</td>\n",
              "      <td>Offline</td>\n",
              "    </tr>\n",
              "    <tr>\n",
              "      <th>4</th>\n",
              "      <td>Town</td>\n",
              "      <td>no</td>\n",
              "      <td>no</td>\n",
              "      <td>no</td>\n",
              "      <td>yes</td>\n",
              "      <td>Online</td>\n",
              "    </tr>\n",
              "    <tr>\n",
              "      <th>...</th>\n",
              "      <td>...</td>\n",
              "      <td>...</td>\n",
              "      <td>...</td>\n",
              "      <td>...</td>\n",
              "      <td>...</td>\n",
              "      <td>...</td>\n",
              "    </tr>\n",
              "    <tr>\n",
              "      <th>4995</th>\n",
              "      <td>Village</td>\n",
              "      <td>NaN</td>\n",
              "      <td>NaN</td>\n",
              "      <td>NaN</td>\n",
              "      <td>NaN</td>\n",
              "      <td>Offline</td>\n",
              "    </tr>\n",
              "    <tr>\n",
              "      <th>4996</th>\n",
              "      <td>Village</td>\n",
              "      <td>NaN</td>\n",
              "      <td>NaN</td>\n",
              "      <td>NaN</td>\n",
              "      <td>NaN</td>\n",
              "      <td>Online</td>\n",
              "    </tr>\n",
              "    <tr>\n",
              "      <th>4997</th>\n",
              "      <td>Village</td>\n",
              "      <td>NaN</td>\n",
              "      <td>NaN</td>\n",
              "      <td>NaN</td>\n",
              "      <td>NaN</td>\n",
              "      <td>Online</td>\n",
              "    </tr>\n",
              "    <tr>\n",
              "      <th>4998</th>\n",
              "      <td>Town</td>\n",
              "      <td>NaN</td>\n",
              "      <td>NaN</td>\n",
              "      <td>NaN</td>\n",
              "      <td>NaN</td>\n",
              "      <td>Offline</td>\n",
              "    </tr>\n",
              "    <tr>\n",
              "      <th>4999</th>\n",
              "      <td>Village</td>\n",
              "      <td>NaN</td>\n",
              "      <td>NaN</td>\n",
              "      <td>NaN</td>\n",
              "      <td>NaN</td>\n",
              "      <td>Offline</td>\n",
              "    </tr>\n",
              "  </tbody>\n",
              "</table>\n",
              "<p>5000 rows × 6 columns</p>\n",
              "</div>"
            ],
            "text/plain": [
              "         Area Smart Phone  ... Electricity Problem Online/Offline\n",
              "0     Village          no  ...                  no        Offline\n",
              "1        Town         yes  ...                 yes        Offline\n",
              "2     Village         yes  ...                 yes         Online\n",
              "3        Town          no  ...                  no        Offline\n",
              "4        Town          no  ...                 yes         Online\n",
              "...       ...         ...  ...                 ...            ...\n",
              "4995  Village         NaN  ...                 NaN        Offline\n",
              "4996  Village         NaN  ...                 NaN         Online\n",
              "4997  Village         NaN  ...                 NaN         Online\n",
              "4998     Town         NaN  ...                 NaN        Offline\n",
              "4999  Village         NaN  ...                 NaN        Offline\n",
              "\n",
              "[5000 rows x 6 columns]"
            ]
          },
          "metadata": {},
          "execution_count": 17
        }
      ]
    },
    {
      "cell_type": "markdown",
      "source": [
        "# **Importing Necessary Tools**"
      ],
      "metadata": {
        "id": "gCe43OCgMYGC"
      }
    },
    {
      "cell_type": "code",
      "source": [
        "# Regular EDA (exploratory data analysis) and plotting libraries\n",
        "import numpy as np\n",
        "import pandas as pd\n",
        "import matplotlib.pyplot as plt\n",
        "import seaborn as sns\n",
        "\n",
        "\n",
        "%matplotlib inline \n",
        "\n",
        "# Models from Scikit-Learn\n",
        "from sklearn.linear_model import LogisticRegression\n",
        "from sklearn.neighbors import KNeighborsClassifier\n",
        "from sklearn.ensemble import RandomForestClassifier\n",
        "\n",
        "# Model Evaluations\n",
        "from sklearn.model_selection import train_test_split, cross_val_score\n",
        "from sklearn.model_selection import RandomizedSearchCV, GridSearchCV\n",
        "from sklearn.metrics import confusion_matrix, classification_report\n",
        "from sklearn.metrics import precision_score, recall_score, f1_score\n",
        "from sklearn.metrics import plot_roc_curve"
      ],
      "metadata": {
        "id": "m3gjmsT9MW91"
      },
      "execution_count": 54,
      "outputs": []
    },
    {
      "cell_type": "markdown",
      "source": [
        "# **Importing The DataSet**"
      ],
      "metadata": {
        "id": "stH_OKcxM3st"
      }
    },
    {
      "cell_type": "code",
      "source": [
        "term_final=pd.read_csv(\"/content/D__AI Project_cuet-term-final.csv\")\n",
        "term_final=term_final.drop(\"Unnamed: 0\",axis=1)"
      ],
      "metadata": {
        "id": "7pNlfSJQM3JF"
      },
      "execution_count": 71,
      "outputs": []
    },
    {
      "cell_type": "code",
      "source": [
        "term_final"
      ],
      "metadata": {
        "colab": {
          "base_uri": "https://localhost:8080/",
          "height": 423
        },
        "id": "gsaDp10kNdYP",
        "outputId": "cf59b24d-d609-421a-e84e-d4dccfa093f2"
      },
      "execution_count": 20,
      "outputs": [
        {
          "output_type": "execute_result",
          "data": {
            "text/html": [
              "<div>\n",
              "<style scoped>\n",
              "    .dataframe tbody tr th:only-of-type {\n",
              "        vertical-align: middle;\n",
              "    }\n",
              "\n",
              "    .dataframe tbody tr th {\n",
              "        vertical-align: top;\n",
              "    }\n",
              "\n",
              "    .dataframe thead th {\n",
              "        text-align: right;\n",
              "    }\n",
              "</style>\n",
              "<table border=\"1\" class=\"dataframe\">\n",
              "  <thead>\n",
              "    <tr style=\"text-align: right;\">\n",
              "      <th></th>\n",
              "      <th>Area</th>\n",
              "      <th>Smart Phone</th>\n",
              "      <th>Multiple Devices</th>\n",
              "      <th>Wifi</th>\n",
              "      <th>Electricity Problem</th>\n",
              "      <th>Online/Offline</th>\n",
              "    </tr>\n",
              "  </thead>\n",
              "  <tbody>\n",
              "    <tr>\n",
              "      <th>0</th>\n",
              "      <td>Town</td>\n",
              "      <td>no</td>\n",
              "      <td>no</td>\n",
              "      <td>yes</td>\n",
              "      <td>yes</td>\n",
              "      <td>Online</td>\n",
              "    </tr>\n",
              "    <tr>\n",
              "      <th>1</th>\n",
              "      <td>Village</td>\n",
              "      <td>no</td>\n",
              "      <td>yes</td>\n",
              "      <td>yes</td>\n",
              "      <td>no</td>\n",
              "      <td>Online</td>\n",
              "    </tr>\n",
              "    <tr>\n",
              "      <th>2</th>\n",
              "      <td>Village</td>\n",
              "      <td>yes</td>\n",
              "      <td>no</td>\n",
              "      <td>yes</td>\n",
              "      <td>no</td>\n",
              "      <td>Offline</td>\n",
              "    </tr>\n",
              "    <tr>\n",
              "      <th>3</th>\n",
              "      <td>Village</td>\n",
              "      <td>no</td>\n",
              "      <td>no</td>\n",
              "      <td>yes</td>\n",
              "      <td>no</td>\n",
              "      <td>Online</td>\n",
              "    </tr>\n",
              "    <tr>\n",
              "      <th>4</th>\n",
              "      <td>Village</td>\n",
              "      <td>yes</td>\n",
              "      <td>no</td>\n",
              "      <td>no</td>\n",
              "      <td>yes</td>\n",
              "      <td>Offline</td>\n",
              "    </tr>\n",
              "    <tr>\n",
              "      <th>...</th>\n",
              "      <td>...</td>\n",
              "      <td>...</td>\n",
              "      <td>...</td>\n",
              "      <td>...</td>\n",
              "      <td>...</td>\n",
              "      <td>...</td>\n",
              "    </tr>\n",
              "    <tr>\n",
              "      <th>4995</th>\n",
              "      <td>Town</td>\n",
              "      <td>NaN</td>\n",
              "      <td>NaN</td>\n",
              "      <td>NaN</td>\n",
              "      <td>NaN</td>\n",
              "      <td>Offline</td>\n",
              "    </tr>\n",
              "    <tr>\n",
              "      <th>4996</th>\n",
              "      <td>Town</td>\n",
              "      <td>NaN</td>\n",
              "      <td>NaN</td>\n",
              "      <td>NaN</td>\n",
              "      <td>NaN</td>\n",
              "      <td>Offline</td>\n",
              "    </tr>\n",
              "    <tr>\n",
              "      <th>4997</th>\n",
              "      <td>Town</td>\n",
              "      <td>NaN</td>\n",
              "      <td>NaN</td>\n",
              "      <td>NaN</td>\n",
              "      <td>NaN</td>\n",
              "      <td>Offline</td>\n",
              "    </tr>\n",
              "    <tr>\n",
              "      <th>4998</th>\n",
              "      <td>Village</td>\n",
              "      <td>NaN</td>\n",
              "      <td>NaN</td>\n",
              "      <td>NaN</td>\n",
              "      <td>NaN</td>\n",
              "      <td>Offline</td>\n",
              "    </tr>\n",
              "    <tr>\n",
              "      <th>4999</th>\n",
              "      <td>Town</td>\n",
              "      <td>NaN</td>\n",
              "      <td>NaN</td>\n",
              "      <td>NaN</td>\n",
              "      <td>NaN</td>\n",
              "      <td>Online</td>\n",
              "    </tr>\n",
              "  </tbody>\n",
              "</table>\n",
              "<p>5000 rows × 6 columns</p>\n",
              "</div>"
            ],
            "text/plain": [
              "         Area Smart Phone  ... Electricity Problem Online/Offline\n",
              "0        Town          no  ...                 yes         Online\n",
              "1     Village          no  ...                  no         Online\n",
              "2     Village         yes  ...                  no        Offline\n",
              "3     Village          no  ...                  no         Online\n",
              "4     Village         yes  ...                 yes        Offline\n",
              "...       ...         ...  ...                 ...            ...\n",
              "4995     Town         NaN  ...                 NaN        Offline\n",
              "4996     Town         NaN  ...                 NaN        Offline\n",
              "4997     Town         NaN  ...                 NaN        Offline\n",
              "4998  Village         NaN  ...                 NaN        Offline\n",
              "4999     Town         NaN  ...                 NaN         Online\n",
              "\n",
              "[5000 rows x 6 columns]"
            ]
          },
          "metadata": {},
          "execution_count": 20
        }
      ]
    },
    {
      "cell_type": "markdown",
      "source": [
        "# **Data Exploration (Exploratory Data Analysis or EDA)**"
      ],
      "metadata": {
        "id": "jbtQDiJMVAH4"
      }
    },
    {
      "cell_type": "code",
      "source": [
        "term_final.head(50)"
      ],
      "metadata": {
        "id": "ZPP3xKv1VCHT"
      },
      "execution_count": null,
      "outputs": []
    },
    {
      "cell_type": "code",
      "source": [
        "term_final.tail(1000)"
      ],
      "metadata": {
        "id": "zBzLBA5SVQYm"
      },
      "execution_count": null,
      "outputs": []
    },
    {
      "cell_type": "markdown",
      "source": [
        "# **Find out how many of each class there**"
      ],
      "metadata": {
        "id": "42YF7TriVZfQ"
      }
    },
    {
      "cell_type": "code",
      "source": [
        "term_final[\"Online/Offline\"].value_counts()"
      ],
      "metadata": {
        "colab": {
          "base_uri": "https://localhost:8080/"
        },
        "id": "VohjHTY6VcPg",
        "outputId": "b023c4cb-1c7c-45ea-f51e-da854af2d106"
      },
      "execution_count": 24,
      "outputs": [
        {
          "output_type": "execute_result",
          "data": {
            "text/plain": [
              "Offline    2521\n",
              "Online     2479\n",
              "Name: Online/Offline, dtype: int64"
            ]
          },
          "metadata": {},
          "execution_count": 24
        }
      ]
    },
    {
      "cell_type": "code",
      "source": [
        "term_final[\"Online/Offline\"].value_counts().plot(kind=\"bar\", color=[\"red\", \"blue\"]);"
      ],
      "metadata": {
        "id": "xmUy8TaaVq5Y"
      },
      "execution_count": null,
      "outputs": []
    },
    {
      "cell_type": "markdown",
      "source": [
        "# **Find Out Missing Rows**"
      ],
      "metadata": {
        "id": "G403meKxWCoO"
      }
    },
    {
      "cell_type": "code",
      "source": [
        "term_final.isna().sum()"
      ],
      "metadata": {
        "id": "Z18MiujdWA5W"
      },
      "execution_count": null,
      "outputs": []
    },
    {
      "cell_type": "code",
      "source": [
        "term_final.info()"
      ],
      "metadata": {
        "id": "M5GWoM7qWSNQ"
      },
      "execution_count": null,
      "outputs": []
    },
    {
      "cell_type": "markdown",
      "source": [
        "# **Online/Offline Frequency According to Area**"
      ],
      "metadata": {
        "id": "Y_mD6lFGWYu1"
      }
    },
    {
      "cell_type": "code",
      "source": [
        "term_final.Area.value_counts()"
      ],
      "metadata": {
        "id": "oUn26GDpWYIl"
      },
      "execution_count": null,
      "outputs": []
    },
    {
      "cell_type": "markdown",
      "source": [
        "# Compare The Offline/Online column with Area Column"
      ],
      "metadata": {
        "id": "t_eY8x9EWwKg"
      }
    },
    {
      "cell_type": "code",
      "source": [
        "pd.crosstab(term_final[\"Online/Offline\"],term_final[\"Area\"])"
      ],
      "metadata": {
        "id": "EVAOUqUYW2XF"
      },
      "execution_count": null,
      "outputs": []
    },
    {
      "cell_type": "markdown",
      "source": [
        "# **Create a plot of crosstab**"
      ],
      "metadata": {
        "id": "a-iIXQntXbvP"
      }
    },
    {
      "cell_type": "code",
      "source": [
        "\n",
        "pd.crosstab(term_final[\"Online/Offline\"],term_final[\"Area\"]).plot(kind=\"bar\",\n",
        "                                    figsize=(10, 6),\n",
        "                                    color=[\"salmon\", \"lightblue\"])\n",
        "\n",
        "plt.title(\"Online/Offline Exam Frequency for Area\")\n",
        "plt.xlabel(\"0 = Offline, 1 = Online\")\n",
        "plt.ylabel(\"Amount\")\n",
        "plt.legend([\"Village\", \"Town\"]);\n",
        "plt.xticks(rotation=0);"
      ],
      "metadata": {
        "id": "D_o_q6K7Xc29"
      },
      "execution_count": null,
      "outputs": []
    },
    {
      "cell_type": "markdown",
      "source": [
        "# **Online/Offline Frequency According to SmartPhone**"
      ],
      "metadata": {
        "id": "QL1bGbbKYbio"
      }
    },
    {
      "cell_type": "code",
      "source": [
        "term_final[\"Smart Phone\"].value_counts()"
      ],
      "metadata": {
        "colab": {
          "base_uri": "https://localhost:8080/"
        },
        "id": "GI1xBxtNYg35",
        "outputId": "7966e311-b225-4bdb-cb6b-ff27d9778e91"
      },
      "execution_count": 37,
      "outputs": [
        {
          "output_type": "execute_result",
          "data": {
            "text/plain": [
              "no     2420\n",
              "yes    2380\n",
              "Name: Smart Phone, dtype: int64"
            ]
          },
          "metadata": {},
          "execution_count": 37
        }
      ]
    },
    {
      "cell_type": "markdown",
      "source": [
        "# **Compare The Offline/Online column with SmartPhone Column**"
      ],
      "metadata": {
        "id": "NzeLhqtEaiU4"
      }
    },
    {
      "cell_type": "code",
      "source": [
        "pd.crosstab(term_final[\"Online/Offline\"],term_final[\"Smart Phone\"])"
      ],
      "metadata": {
        "colab": {
          "base_uri": "https://localhost:8080/",
          "height": 143
        },
        "id": "sLrRT7Bhah0-",
        "outputId": "22802f15-b98e-483d-eb0e-7c12893a6be0"
      },
      "execution_count": 38,
      "outputs": [
        {
          "output_type": "execute_result",
          "data": {
            "text/html": [
              "<div>\n",
              "<style scoped>\n",
              "    .dataframe tbody tr th:only-of-type {\n",
              "        vertical-align: middle;\n",
              "    }\n",
              "\n",
              "    .dataframe tbody tr th {\n",
              "        vertical-align: top;\n",
              "    }\n",
              "\n",
              "    .dataframe thead th {\n",
              "        text-align: right;\n",
              "    }\n",
              "</style>\n",
              "<table border=\"1\" class=\"dataframe\">\n",
              "  <thead>\n",
              "    <tr style=\"text-align: right;\">\n",
              "      <th>Smart Phone</th>\n",
              "      <th>no</th>\n",
              "      <th>yes</th>\n",
              "    </tr>\n",
              "    <tr>\n",
              "      <th>Online/Offline</th>\n",
              "      <th></th>\n",
              "      <th></th>\n",
              "    </tr>\n",
              "  </thead>\n",
              "  <tbody>\n",
              "    <tr>\n",
              "      <th>Offline</th>\n",
              "      <td>1233</td>\n",
              "      <td>1199</td>\n",
              "    </tr>\n",
              "    <tr>\n",
              "      <th>Online</th>\n",
              "      <td>1187</td>\n",
              "      <td>1181</td>\n",
              "    </tr>\n",
              "  </tbody>\n",
              "</table>\n",
              "</div>"
            ],
            "text/plain": [
              "Smart Phone       no   yes\n",
              "Online/Offline            \n",
              "Offline         1233  1199\n",
              "Online          1187  1181"
            ]
          },
          "metadata": {},
          "execution_count": 38
        }
      ]
    },
    {
      "cell_type": "markdown",
      "source": [
        "# **Create a plot of crosstab**"
      ],
      "metadata": {
        "id": "7W48egpWauVD"
      }
    },
    {
      "cell_type": "code",
      "source": [
        "pd.crosstab(term_final[\"Online/Offline\"],term_final[\"Smart Phone\"]).plot(kind=\"bar\",\n",
        "                                    figsize=(10, 6),\n",
        "                                    color=[\"salmon\", \"lightblue\"])\n",
        "\n",
        "plt.title(\"Online/Offline Exam Frequency for Smart Phone\")\n",
        "plt.xlabel(\"0 = Offline, 1 = Online\")\n",
        "plt.ylabel(\"Amount\")\n",
        "plt.legend([\"No\", \"Yes\"]);\n",
        "plt.xticks(rotation=0);"
      ],
      "metadata": {
        "colab": {
          "base_uri": "https://localhost:8080/",
          "height": 404
        },
        "id": "Y7j3erJVay2n",
        "outputId": "2c40b223-54cd-4b8c-c6d9-70276086f6d8"
      },
      "execution_count": 39,
      "outputs": [
        {
          "output_type": "display_data",
          "data": {
            "image/png": "[encoded data removed]",
            "text/plain": [
              "<Figure size 720x432 with 1 Axes>"
            ]
          },
          "metadata": {
            "needs_background": "light"
          }
        }
      ]
    },
    {
      "cell_type": "markdown",
      "source": [
        "# **Online/Offline Frequency According to Electricity Problem**"
      ],
      "metadata": {
        "id": "aFv79G6zbfO8"
      }
    },
    {
      "cell_type": "code",
      "source": [
        "term_final[\"Electricity Problem\"].value_counts()"
      ],
      "metadata": {
        "colab": {
          "base_uri": "https://localhost:8080/"
        },
        "id": "YIAGynFabnfH",
        "outputId": "6cf7428a-0ea8-4ff8-abe0-181ae8429f41"
      },
      "execution_count": 40,
      "outputs": [
        {
          "output_type": "execute_result",
          "data": {
            "text/plain": [
              "yes    2479\n",
              "no     2422\n",
              "Name: Electricity Problem, dtype: int64"
            ]
          },
          "metadata": {},
          "execution_count": 40
        }
      ]
    },
    {
      "cell_type": "markdown",
      "source": [
        "# **Compare The Offline/Online column with Electricity Problem Column**"
      ],
      "metadata": {
        "id": "Z4pU5fAhcHd2"
      }
    },
    {
      "cell_type": "code",
      "source": [
        "pd.crosstab(term_final[\"Online/Offline\"],term_final[\"Electricity Problem\"])"
      ],
      "metadata": {
        "colab": {
          "base_uri": "https://localhost:8080/",
          "height": 143
        },
        "id": "H1CmA2hhcM8G",
        "outputId": "85cb82d8-1c8d-431c-abb8-674930c242ff"
      },
      "execution_count": 41,
      "outputs": [
        {
          "output_type": "execute_result",
          "data": {
            "text/html": [
              "<div>\n",
              "<style scoped>\n",
              "    .dataframe tbody tr th:only-of-type {\n",
              "        vertical-align: middle;\n",
              "    }\n",
              "\n",
              "    .dataframe tbody tr th {\n",
              "        vertical-align: top;\n",
              "    }\n",
              "\n",
              "    .dataframe thead th {\n",
              "        text-align: right;\n",
              "    }\n",
              "</style>\n",
              "<table border=\"1\" class=\"dataframe\">\n",
              "  <thead>\n",
              "    <tr style=\"text-align: right;\">\n",
              "      <th>Electricity Problem</th>\n",
              "      <th>no</th>\n",
              "      <th>yes</th>\n",
              "    </tr>\n",
              "    <tr>\n",
              "      <th>Online/Offline</th>\n",
              "      <th></th>\n",
              "      <th></th>\n",
              "    </tr>\n",
              "  </thead>\n",
              "  <tbody>\n",
              "    <tr>\n",
              "      <th>Offline</th>\n",
              "      <td>1249</td>\n",
              "      <td>1230</td>\n",
              "    </tr>\n",
              "    <tr>\n",
              "      <th>Online</th>\n",
              "      <td>1173</td>\n",
              "      <td>1249</td>\n",
              "    </tr>\n",
              "  </tbody>\n",
              "</table>\n",
              "</div>"
            ],
            "text/plain": [
              "Electricity Problem    no   yes\n",
              "Online/Offline                 \n",
              "Offline              1249  1230\n",
              "Online               1173  1249"
            ]
          },
          "metadata": {},
          "execution_count": 41
        }
      ]
    },
    {
      "cell_type": "markdown",
      "source": [
        "# **Create a plot of crosstab**"
      ],
      "metadata": {
        "id": "ESxhEo3UcZ1u"
      }
    },
    {
      "cell_type": "code",
      "source": [
        "pd.crosstab(term_final[\"Online/Offline\"],term_final[\"Electricity Problem\"]).plot(kind=\"bar\",\n",
        "                                    figsize=(10, 6),\n",
        "                                    color=[\"salmon\", \"lightblue\"])\n",
        "\n",
        "plt.title(\"Online/Offline Exam Frequency for Electricity Problem\")\n",
        "plt.xlabel(\"0 = Offline, 1 = Online\")\n",
        "plt.ylabel(\"Amount\")\n",
        "plt.legend([\"Yes\", \"No\"]);\n",
        "plt.xticks(rotation=0);"
      ],
      "metadata": {
        "colab": {
          "base_uri": "https://localhost:8080/",
          "height": 404
        },
        "id": "0RVp87t7cbkt",
        "outputId": "15b32ebc-c7b8-4d18-ff24-d867f955e77b"
      },
      "execution_count": 44,
      "outputs": [
        {
          "output_type": "display_data",
          "data": {
            "image/png": "[encoded data removed]",
            "text/plain": [
              "<Figure size 720x432 with 1 Axes>"
            ]
          },
          "metadata": {
            "needs_background": "light"
          }
        }
      ]
    },
    {
      "cell_type": "markdown",
      "source": [
        "# **Filling Missing Data and Transforming Categorical Data**"
      ],
      "metadata": {
        "id": "v60Kd9srdzDu"
      }
    },
    {
      "cell_type": "code",
      "source": [
        "term_final.isna().sum()"
      ],
      "metadata": {
        "id": "2jqfhytxi6DA"
      },
      "execution_count": null,
      "outputs": []
    },
    {
      "cell_type": "code",
      "source": [
        "term_final[\"Online/Offline\"].value_counts()"
      ],
      "metadata": {
        "colab": {
          "base_uri": "https://localhost:8080/"
        },
        "id": "KNMA9QhJjn2M",
        "outputId": "27957a5f-949c-43ed-a3c1-4be1c4769883"
      },
      "execution_count": 83,
      "outputs": [
        {
          "output_type": "execute_result",
          "data": {
            "text/plain": [
              "Offline    2521\n",
              "Online     2479\n",
              "Name: Online/Offline, dtype: int64"
            ]
          },
          "metadata": {},
          "execution_count": 83
        }
      ]
    },
    {
      "cell_type": "code",
      "source": [
        "from sklearn.impute import SimpleImputer\n",
        "from sklearn.compose import ColumnTransformer\n",
        "\n",
        "#Fill Area with Village\n",
        "area_imputer=SimpleImputer(strategy=\"constant\", fill_value=\"Village\")\n",
        "\n",
        "#Fill categorical values with 'yes'\n",
        "cat_imputer = SimpleImputer(strategy=\"constant\", fill_value=\"yes\")\n",
        "\n",
        "#Fill Online/Offline winth Offline\n",
        "exam_imputer=SimpleImputer(strategy=\"constant\", fill_value=\"Offline\")\n",
        "\n",
        "\n",
        "\n",
        "## Define different  column features\n",
        "area_feature=[\"Area\"]\n",
        "\n",
        "categorical_features = ['Smart Phone', 'Multiple Devices', 'Wifi',\n",
        "       'Electricity Problem']\n",
        "\n",
        "exam_feature=['Online/Offline']\n",
        "\n",
        "\n",
        "\n",
        "\n",
        "\n",
        "imputer=ColumnTransformer([\n",
        "                           (\"area_imputer\",area_imputer,area_feature),\n",
        "                           (\"Cat_imputer\",cat_imputer,categorical_features),\n",
        "                           (\"exam_imputer\",exam_imputer,exam_feature)])\n",
        "\n",
        "#Fill The Data Frame\n",
        "filled_term_final=imputer.fit_transform(term_final)\n"
      ],
      "metadata": {
        "id": "g6-ijFMMjTzW"
      },
      "execution_count": 84,
      "outputs": []
    },
    {
      "cell_type": "code",
      "source": [
        "filled_term_final"
      ],
      "metadata": {
        "id": "mUgm5-SHmowe"
      },
      "execution_count": null,
      "outputs": []
    },
    {
      "cell_type": "markdown",
      "source": [
        "# **Get our Transformed Data Array's back into DataFrame**"
      ],
      "metadata": {
        "id": "TQ_xpL2joq8m"
      }
    },
    {
      "cell_type": "code",
      "source": [
        "cuet_filled_term_final = pd.DataFrame(filled_term_final, \n",
        "                                      columns=['Area', 'Smart Phone', 'Multiple Devices', 'Wifi',\n",
        "       'Electricity Problem', 'Online/Offline'])"
      ],
      "metadata": {
        "id": "-reHfaBGoxqX"
      },
      "execution_count": 87,
      "outputs": []
    },
    {
      "cell_type": "code",
      "source": [
        "cuet_filled_term_final"
      ],
      "metadata": {
        "colab": {
          "base_uri": "https://localhost:8080/",
          "height": 423
        },
        "id": "P64BHbi8mNGu",
        "outputId": "35a30639-879a-418b-8bc8-8c02e668fbe1"
      },
      "execution_count": 90,
      "outputs": [
        {
          "output_type": "execute_result",
          "data": {
            "text/html": [
              "<div>\n",
              "<style scoped>\n",
              "    .dataframe tbody tr th:only-of-type {\n",
              "        vertical-align: middle;\n",
              "    }\n",
              "\n",
              "    .dataframe tbody tr th {\n",
              "        vertical-align: top;\n",
              "    }\n",
              "\n",
              "    .dataframe thead th {\n",
              "        text-align: right;\n",
              "    }\n",
              "</style>\n",
              "<table border=\"1\" class=\"dataframe\">\n",
              "  <thead>\n",
              "    <tr style=\"text-align: right;\">\n",
              "      <th></th>\n",
              "      <th>Area</th>\n",
              "      <th>Smart Phone</th>\n",
              "      <th>Multiple Devices</th>\n",
              "      <th>Wifi</th>\n",
              "      <th>Electricity Problem</th>\n",
              "      <th>Online/Offline</th>\n",
              "    </tr>\n",
              "  </thead>\n",
              "  <tbody>\n",
              "    <tr>\n",
              "      <th>0</th>\n",
              "      <td>Town</td>\n",
              "      <td>no</td>\n",
              "      <td>no</td>\n",
              "      <td>yes</td>\n",
              "      <td>yes</td>\n",
              "      <td>Online</td>\n",
              "    </tr>\n",
              "    <tr>\n",
              "      <th>1</th>\n",
              "      <td>Village</td>\n",
              "      <td>no</td>\n",
              "      <td>yes</td>\n",
              "      <td>yes</td>\n",
              "      <td>no</td>\n",
              "      <td>Online</td>\n",
              "    </tr>\n",
              "    <tr>\n",
              "      <th>2</th>\n",
              "      <td>Village</td>\n",
              "      <td>yes</td>\n",
              "      <td>no</td>\n",
              "      <td>yes</td>\n",
              "      <td>no</td>\n",
              "      <td>Offline</td>\n",
              "    </tr>\n",
              "    <tr>\n",
              "      <th>3</th>\n",
              "      <td>Village</td>\n",
              "      <td>no</td>\n",
              "      <td>no</td>\n",
              "      <td>yes</td>\n",
              "      <td>no</td>\n",
              "      <td>Online</td>\n",
              "    </tr>\n",
              "    <tr>\n",
              "      <th>4</th>\n",
              "      <td>Village</td>\n",
              "      <td>yes</td>\n",
              "      <td>no</td>\n",
              "      <td>no</td>\n",
              "      <td>yes</td>\n",
              "      <td>Offline</td>\n",
              "    </tr>\n",
              "    <tr>\n",
              "      <th>...</th>\n",
              "      <td>...</td>\n",
              "      <td>...</td>\n",
              "      <td>...</td>\n",
              "      <td>...</td>\n",
              "      <td>...</td>\n",
              "      <td>...</td>\n",
              "    </tr>\n",
              "    <tr>\n",
              "      <th>4995</th>\n",
              "      <td>Town</td>\n",
              "      <td>yes</td>\n",
              "      <td>yes</td>\n",
              "      <td>yes</td>\n",
              "      <td>yes</td>\n",
              "      <td>Offline</td>\n",
              "    </tr>\n",
              "    <tr>\n",
              "      <th>4996</th>\n",
              "      <td>Town</td>\n",
              "      <td>yes</td>\n",
              "      <td>yes</td>\n",
              "      <td>yes</td>\n",
              "      <td>yes</td>\n",
              "      <td>Offline</td>\n",
              "    </tr>\n",
              "    <tr>\n",
              "      <th>4997</th>\n",
              "      <td>Town</td>\n",
              "      <td>yes</td>\n",
              "      <td>yes</td>\n",
              "      <td>yes</td>\n",
              "      <td>yes</td>\n",
              "      <td>Offline</td>\n",
              "    </tr>\n",
              "    <tr>\n",
              "      <th>4998</th>\n",
              "      <td>Village</td>\n",
              "      <td>yes</td>\n",
              "      <td>yes</td>\n",
              "      <td>yes</td>\n",
              "      <td>yes</td>\n",
              "      <td>Offline</td>\n",
              "    </tr>\n",
              "    <tr>\n",
              "      <th>4999</th>\n",
              "      <td>Town</td>\n",
              "      <td>yes</td>\n",
              "      <td>yes</td>\n",
              "      <td>yes</td>\n",
              "      <td>yes</td>\n",
              "      <td>Online</td>\n",
              "    </tr>\n",
              "  </tbody>\n",
              "</table>\n",
              "<p>5000 rows × 6 columns</p>\n",
              "</div>"
            ],
            "text/plain": [
              "         Area Smart Phone  ... Electricity Problem Online/Offline\n",
              "0        Town          no  ...                 yes         Online\n",
              "1     Village          no  ...                  no         Online\n",
              "2     Village         yes  ...                  no        Offline\n",
              "3     Village          no  ...                  no         Online\n",
              "4     Village         yes  ...                 yes        Offline\n",
              "...       ...         ...  ...                 ...            ...\n",
              "4995     Town         yes  ...                 yes        Offline\n",
              "4996     Town         yes  ...                 yes        Offline\n",
              "4997     Town         yes  ...                 yes        Offline\n",
              "4998  Village         yes  ...                 yes        Offline\n",
              "4999     Town         yes  ...                 yes         Online\n",
              "\n",
              "[5000 rows x 6 columns]"
            ]
          },
          "metadata": {},
          "execution_count": 90
        }
      ]
    },
    {
      "cell_type": "code",
      "source": [
        "cuet_filled_term_final.isna().sum()"
      ],
      "metadata": {
        "colab": {
          "base_uri": "https://localhost:8080/"
        },
        "id": "iwT7_riYpVb_",
        "outputId": "40e8cb1a-b536-4153-eb51-9dba94d24531"
      },
      "execution_count": 89,
      "outputs": [
        {
          "output_type": "execute_result",
          "data": {
            "text/plain": [
              "Area                   0\n",
              "Smart Phone            0\n",
              "Multiple Devices       0\n",
              "Wifi                   0\n",
              "Electricity Problem    0\n",
              "Online/Offline         0\n",
              "dtype: int64"
            ]
          },
          "metadata": {},
          "execution_count": 89
        }
      ]
    },
    {
      "cell_type": "markdown",
      "source": [
        "# **Split Data into X and Y**"
      ],
      "metadata": {
        "id": "o_nYx8QZtJOp"
      }
    },
    {
      "cell_type": "code",
      "source": [
        "X=cuet_filled_term_final.iloc[:,:-1]"
      ],
      "metadata": {
        "id": "q18_C0QptZnt"
      },
      "execution_count": 109,
      "outputs": []
    },
    {
      "cell_type": "code",
      "source": [
        "X"
      ],
      "metadata": {
        "colab": {
          "base_uri": "https://localhost:8080/",
          "height": 423
        },
        "id": "v6yVW0oJtgJ5",
        "outputId": "18706612-09ee-477e-ea3b-8d64a0977c14"
      },
      "execution_count": 110,
      "outputs": [
        {
          "output_type": "execute_result",
          "data": {
            "text/html": [
              "<div>\n",
              "<style scoped>\n",
              "    .dataframe tbody tr th:only-of-type {\n",
              "        vertical-align: middle;\n",
              "    }\n",
              "\n",
              "    .dataframe tbody tr th {\n",
              "        vertical-align: top;\n",
              "    }\n",
              "\n",
              "    .dataframe thead th {\n",
              "        text-align: right;\n",
              "    }\n",
              "</style>\n",
              "<table border=\"1\" class=\"dataframe\">\n",
              "  <thead>\n",
              "    <tr style=\"text-align: right;\">\n",
              "      <th></th>\n",
              "      <th>Area</th>\n",
              "      <th>Smart Phone</th>\n",
              "      <th>Multiple Devices</th>\n",
              "      <th>Wifi</th>\n",
              "      <th>Electricity Problem</th>\n",
              "    </tr>\n",
              "  </thead>\n",
              "  <tbody>\n",
              "    <tr>\n",
              "      <th>0</th>\n",
              "      <td>Town</td>\n",
              "      <td>no</td>\n",
              "      <td>no</td>\n",
              "      <td>yes</td>\n",
              "      <td>yes</td>\n",
              "    </tr>\n",
              "    <tr>\n",
              "      <th>1</th>\n",
              "      <td>Village</td>\n",
              "      <td>no</td>\n",
              "      <td>yes</td>\n",
              "      <td>yes</td>\n",
              "      <td>no</td>\n",
              "    </tr>\n",
              "    <tr>\n",
              "      <th>2</th>\n",
              "      <td>Village</td>\n",
              "      <td>yes</td>\n",
              "      <td>no</td>\n",
              "      <td>yes</td>\n",
              "      <td>no</td>\n",
              "    </tr>\n",
              "    <tr>\n",
              "      <th>3</th>\n",
              "      <td>Village</td>\n",
              "      <td>no</td>\n",
              "      <td>no</td>\n",
              "      <td>yes</td>\n",
              "      <td>no</td>\n",
              "    </tr>\n",
              "    <tr>\n",
              "      <th>4</th>\n",
              "      <td>Village</td>\n",
              "      <td>yes</td>\n",
              "      <td>no</td>\n",
              "      <td>no</td>\n",
              "      <td>yes</td>\n",
              "    </tr>\n",
              "    <tr>\n",
              "      <th>...</th>\n",
              "      <td>...</td>\n",
              "      <td>...</td>\n",
              "      <td>...</td>\n",
              "      <td>...</td>\n",
              "      <td>...</td>\n",
              "    </tr>\n",
              "    <tr>\n",
              "      <th>4995</th>\n",
              "      <td>Town</td>\n",
              "      <td>yes</td>\n",
              "      <td>yes</td>\n",
              "      <td>yes</td>\n",
              "      <td>yes</td>\n",
              "    </tr>\n",
              "    <tr>\n",
              "      <th>4996</th>\n",
              "      <td>Town</td>\n",
              "      <td>yes</td>\n",
              "      <td>yes</td>\n",
              "      <td>yes</td>\n",
              "      <td>yes</td>\n",
              "    </tr>\n",
              "    <tr>\n",
              "      <th>4997</th>\n",
              "      <td>Town</td>\n",
              "      <td>yes</td>\n",
              "      <td>yes</td>\n",
              "      <td>yes</td>\n",
              "      <td>yes</td>\n",
              "    </tr>\n",
              "    <tr>\n",
              "      <th>4998</th>\n",
              "      <td>Village</td>\n",
              "      <td>yes</td>\n",
              "      <td>yes</td>\n",
              "      <td>yes</td>\n",
              "      <td>yes</td>\n",
              "    </tr>\n",
              "    <tr>\n",
              "      <th>4999</th>\n",
              "      <td>Town</td>\n",
              "      <td>yes</td>\n",
              "      <td>yes</td>\n",
              "      <td>yes</td>\n",
              "      <td>yes</td>\n",
              "    </tr>\n",
              "  </tbody>\n",
              "</table>\n",
              "<p>5000 rows × 5 columns</p>\n",
              "</div>"
            ],
            "text/plain": [
              "         Area Smart Phone Multiple Devices Wifi Electricity Problem\n",
              "0        Town          no               no  yes                 yes\n",
              "1     Village          no              yes  yes                  no\n",
              "2     Village         yes               no  yes                  no\n",
              "3     Village          no               no  yes                  no\n",
              "4     Village         yes               no   no                 yes\n",
              "...       ...         ...              ...  ...                 ...\n",
              "4995     Town         yes              yes  yes                 yes\n",
              "4996     Town         yes              yes  yes                 yes\n",
              "4997     Town         yes              yes  yes                 yes\n",
              "4998  Village         yes              yes  yes                 yes\n",
              "4999     Town         yes              yes  yes                 yes\n",
              "\n",
              "[5000 rows x 5 columns]"
            ]
          },
          "metadata": {},
          "execution_count": 110
        }
      ]
    },
    {
      "cell_type": "code",
      "source": [
        "y=cuet_filled_term_final[\"Online/Offline\"]"
      ],
      "metadata": {
        "id": "HHFJzvptpYr0"
      },
      "execution_count": 93,
      "outputs": []
    },
    {
      "cell_type": "code",
      "source": [
        "X"
      ],
      "metadata": {
        "colab": {
          "base_uri": "https://localhost:8080/",
          "height": 423
        },
        "id": "MYWdwT-vvhxm",
        "outputId": "44f56b11-73c8-4c67-ca47-f2a1a1c15e72"
      },
      "execution_count": 111,
      "outputs": [
        {
          "output_type": "execute_result",
          "data": {
            "text/html": [
              "<div>\n",
              "<style scoped>\n",
              "    .dataframe tbody tr th:only-of-type {\n",
              "        vertical-align: middle;\n",
              "    }\n",
              "\n",
              "    .dataframe tbody tr th {\n",
              "        vertical-align: top;\n",
              "    }\n",
              "\n",
              "    .dataframe thead th {\n",
              "        text-align: right;\n",
              "    }\n",
              "</style>\n",
              "<table border=\"1\" class=\"dataframe\">\n",
              "  <thead>\n",
              "    <tr style=\"text-align: right;\">\n",
              "      <th></th>\n",
              "      <th>Area</th>\n",
              "      <th>Smart Phone</th>\n",
              "      <th>Multiple Devices</th>\n",
              "      <th>Wifi</th>\n",
              "      <th>Electricity Problem</th>\n",
              "    </tr>\n",
              "  </thead>\n",
              "  <tbody>\n",
              "    <tr>\n",
              "      <th>0</th>\n",
              "      <td>Town</td>\n",
              "      <td>no</td>\n",
              "      <td>no</td>\n",
              "      <td>yes</td>\n",
              "      <td>yes</td>\n",
              "    </tr>\n",
              "    <tr>\n",
              "      <th>1</th>\n",
              "      <td>Village</td>\n",
              "      <td>no</td>\n",
              "      <td>yes</td>\n",
              "      <td>yes</td>\n",
              "      <td>no</td>\n",
              "    </tr>\n",
              "    <tr>\n",
              "      <th>2</th>\n",
              "      <td>Village</td>\n",
              "      <td>yes</td>\n",
              "      <td>no</td>\n",
              "      <td>yes</td>\n",
              "      <td>no</td>\n",
              "    </tr>\n",
              "    <tr>\n",
              "      <th>3</th>\n",
              "      <td>Village</td>\n",
              "      <td>no</td>\n",
              "      <td>no</td>\n",
              "      <td>yes</td>\n",
              "      <td>no</td>\n",
              "    </tr>\n",
              "    <tr>\n",
              "      <th>4</th>\n",
              "      <td>Village</td>\n",
              "      <td>yes</td>\n",
              "      <td>no</td>\n",
              "      <td>no</td>\n",
              "      <td>yes</td>\n",
              "    </tr>\n",
              "    <tr>\n",
              "      <th>...</th>\n",
              "      <td>...</td>\n",
              "      <td>...</td>\n",
              "      <td>...</td>\n",
              "      <td>...</td>\n",
              "      <td>...</td>\n",
              "    </tr>\n",
              "    <tr>\n",
              "      <th>4995</th>\n",
              "      <td>Town</td>\n",
              "      <td>yes</td>\n",
              "      <td>yes</td>\n",
              "      <td>yes</td>\n",
              "      <td>yes</td>\n",
              "    </tr>\n",
              "    <tr>\n",
              "      <th>4996</th>\n",
              "      <td>Town</td>\n",
              "      <td>yes</td>\n",
              "      <td>yes</td>\n",
              "      <td>yes</td>\n",
              "      <td>yes</td>\n",
              "    </tr>\n",
              "    <tr>\n",
              "      <th>4997</th>\n",
              "      <td>Town</td>\n",
              "      <td>yes</td>\n",
              "      <td>yes</td>\n",
              "      <td>yes</td>\n",
              "      <td>yes</td>\n",
              "    </tr>\n",
              "    <tr>\n",
              "      <th>4998</th>\n",
              "      <td>Village</td>\n",
              "      <td>yes</td>\n",
              "      <td>yes</td>\n",
              "      <td>yes</td>\n",
              "      <td>yes</td>\n",
              "    </tr>\n",
              "    <tr>\n",
              "      <th>4999</th>\n",
              "      <td>Town</td>\n",
              "      <td>yes</td>\n",
              "      <td>yes</td>\n",
              "      <td>yes</td>\n",
              "      <td>yes</td>\n",
              "    </tr>\n",
              "  </tbody>\n",
              "</table>\n",
              "<p>5000 rows × 5 columns</p>\n",
              "</div>"
            ],
            "text/plain": [
              "         Area Smart Phone Multiple Devices Wifi Electricity Problem\n",
              "0        Town          no               no  yes                 yes\n",
              "1     Village          no              yes  yes                  no\n",
              "2     Village         yes               no  yes                  no\n",
              "3     Village          no               no  yes                  no\n",
              "4     Village         yes               no   no                 yes\n",
              "...       ...         ...              ...  ...                 ...\n",
              "4995     Town         yes              yes  yes                 yes\n",
              "4996     Town         yes              yes  yes                 yes\n",
              "4997     Town         yes              yes  yes                 yes\n",
              "4998  Village         yes              yes  yes                 yes\n",
              "4999     Town         yes              yes  yes                 yes\n",
              "\n",
              "[5000 rows x 5 columns]"
            ]
          },
          "metadata": {},
          "execution_count": 111
        }
      ]
    },
    {
      "cell_type": "markdown",
      "source": [
        "# **Encoding Categorical Data**"
      ],
      "metadata": {
        "id": "4E03HnquudEX"
      }
    },
    {
      "cell_type": "code",
      "source": [
        "X.columns"
      ],
      "metadata": {
        "colab": {
          "base_uri": "https://localhost:8080/"
        },
        "id": "sYroc5d9wCVd",
        "outputId": "01d0a423-4cd5-47a0-db49-e2674ceea3d3"
      },
      "execution_count": 105,
      "outputs": [
        {
          "output_type": "execute_result",
          "data": {
            "text/plain": [
              "Index(['Area', 'Smart Phone', 'Multiple Devices', 'Wifi',\n",
              "       'Electricity Problem'],\n",
              "      dtype='object')"
            ]
          },
          "metadata": {},
          "execution_count": 105
        }
      ]
    },
    {
      "cell_type": "code",
      "source": [
        "# Now let's one hot encode the features with the same code as before \n",
        "categorical_features = ['Area', 'Smart Phone', 'Multiple Devices', 'Wifi',\n",
        "       'Electricity Problem']\n",
        "one_hot = OneHotEncoder()\n",
        "transformer = ColumnTransformer([(\"one_hot\", \n",
        "                                 one_hot, \n",
        "                                 categorical_features)],\n",
        "                                 remainder=\"passthrough\")\n",
        "\n",
        "# Fill train and test values separately\n",
        "X = transformer.fit_transform(X)"
      ],
      "metadata": {
        "id": "54HApSsqvJxT"
      },
      "execution_count": 116,
      "outputs": []
    },
    {
      "cell_type": "code",
      "source": [
        "X"
      ],
      "metadata": {
        "colab": {
          "base_uri": "https://localhost:8080/"
        },
        "id": "mM_MUUsPw0lr",
        "outputId": "3300336a-9ac6-4709-a68b-a04142460aeb"
      },
      "execution_count": 118,
      "outputs": [
        {
          "output_type": "execute_result",
          "data": {
            "text/plain": [
              "array([[1., 0., 1., ..., 1., 0., 1.],\n",
              "       [0., 1., 1., ..., 1., 1., 0.],\n",
              "       [0., 1., 0., ..., 1., 1., 0.],\n",
              "       ...,\n",
              "       [1., 0., 0., ..., 1., 0., 1.],\n",
              "       [0., 1., 0., ..., 1., 0., 1.],\n",
              "       [1., 0., 0., ..., 1., 0., 1.]])"
            ]
          },
          "metadata": {},
          "execution_count": 118
        }
      ]
    },
    {
      "cell_type": "markdown",
      "source": [
        "# **Encoding the Offline/Online**"
      ],
      "metadata": {
        "id": "QAo5J5h0xLNU"
      }
    },
    {
      "cell_type": "code",
      "source": [
        "from sklearn.preprocessing import LabelEncoder\n",
        "le = LabelEncoder()\n",
        "y = le.fit_transform(y)"
      ],
      "metadata": {
        "id": "nNJwgfNzxSDF"
      },
      "execution_count": 114,
      "outputs": []
    },
    {
      "cell_type": "code",
      "source": [
        "y"
      ],
      "metadata": {
        "colab": {
          "base_uri": "https://localhost:8080/"
        },
        "id": "u6BmkpwJxnC1",
        "outputId": "a33cd53c-3f2a-40e7-8836-2fe423f46a7b"
      },
      "execution_count": 115,
      "outputs": [
        {
          "output_type": "execute_result",
          "data": {
            "text/plain": [
              "array([1, 1, 0, ..., 0, 0, 1])"
            ]
          },
          "metadata": {},
          "execution_count": 115
        }
      ]
    },
    {
      "cell_type": "markdown",
      "source": [
        "# **Modeling**"
      ],
      "metadata": {
        "id": "c8s-6kbQfwPz"
      }
    },
    {
      "cell_type": "markdown",
      "source": [
        "# **Splitting the dataset into the Training set and Test set**"
      ],
      "metadata": {
        "id": "RZ3w5S9kxtaH"
      }
    },
    {
      "cell_type": "code",
      "source": [
        "from sklearn.model_selection import train_test_split\n",
        "X_train, X_test, y_train, y_test = train_test_split(X, y, test_size = 0.2, random_state = 1)"
      ],
      "metadata": {
        "id": "oiO6gCzrxxKt"
      },
      "execution_count": 119,
      "outputs": []
    },
    {
      "cell_type": "markdown",
      "source": [
        "## **Put Models in a Dictionary**"
      ],
      "metadata": {
        "id": "Z-k9QzbeyWdz"
      }
    },
    {
      "cell_type": "code",
      "source": [
        "# Put models in a dictionary\n",
        "models = {\"Logistic Regression\": LogisticRegression(),\n",
        "          \"KNN\": KNeighborsClassifier(),\n",
        "          \"Random Forest\": RandomForestClassifier()}\n",
        "\n",
        "# Create a function to fit and score models\n",
        "def fit_and_score(models, X_train, X_test, y_train, y_test):\n",
        "    # Set random seed\n",
        "    np.random.seed(42)\n",
        "    # Make a dictionary to keep model scores\n",
        "    model_scores = {}\n",
        "    # Loop through models\n",
        "    for name, model in models.items():\n",
        "        # Fit the model to the data\n",
        "        model.fit(X_train, y_train)\n",
        "        # Evaluate the model and append its score to model_scores\n",
        "        model_scores[name] = model.score(X_test, y_test)\n",
        "    return model_scores"
      ],
      "metadata": {
        "id": "TBoW1pwEycc6"
      },
      "execution_count": 120,
      "outputs": []
    },
    {
      "cell_type": "code",
      "source": [
        "model_scores = fit_and_score(models=models,\n",
        "                             X_train=X_train,\n",
        "                             X_test=X_test,\n",
        "                             y_train=y_train,\n",
        "                             y_test=y_test)\n",
        "\n",
        "model_scores"
      ],
      "metadata": {
        "colab": {
          "base_uri": "https://localhost:8080/"
        },
        "id": "BWW1V4ygznZ9",
        "outputId": "49ac121a-4dd3-4244-df7f-ff46d9892c3f"
      },
      "execution_count": 121,
      "outputs": [
        {
          "output_type": "execute_result",
          "data": {
            "text/plain": [
              "{'KNN': 0.501, 'Logistic Regression': 0.526, 'Random Forest': 0.5}"
            ]
          },
          "metadata": {},
          "execution_count": 121
        }
      ]
    },
    {
      "cell_type": "markdown",
      "source": [
        "# **Model Comparison**"
      ],
      "metadata": {
        "id": "oL5b6LyzzrxO"
      }
    },
    {
      "cell_type": "code",
      "source": [
        "model_compare = pd.DataFrame(model_scores, index=[\"accuracy\"])\n",
        "model_compare.T.plot.bar();"
      ],
      "metadata": {
        "colab": {
          "base_uri": "https://localhost:8080/",
          "height": 351
        },
        "id": "uGtMXKLSzrHd",
        "outputId": "2a36a3cf-6c6f-4534-cbdf-612cf12a7058"
      },
      "execution_count": 122,
      "outputs": [
        {
          "output_type": "display_data",
          "data": {
            "image/png": "[encoded data removed]",
            "text/plain": [
              "<Figure size 432x288 with 1 Axes>"
            ]
          },
          "metadata": {
            "needs_background": "light"
          }
        }
      ]
    },
    {
      "cell_type": "markdown",
      "source": [
        "# **Hyperparameter Tuning (By Hand)**"
      ],
      "metadata": {
        "id": "16so3Sn-0Nhl"
      }
    },
    {
      "cell_type": "code",
      "source": [
        "# Let's tune KNN\n",
        "\n",
        "train_scores = []\n",
        "test_scores = []\n",
        "\n",
        "# Create a list of differnt values for n_neighbors\n",
        "neighbors = range(1, 21)\n",
        "\n",
        "# Setup KNN instance\n",
        "knn = KNeighborsClassifier()\n",
        "\n",
        "# Loop through different n_neighbors\n",
        "for i in neighbors:\n",
        "    knn.set_params(n_neighbors=i)\n",
        "    \n",
        "    # Fit the algorithm\n",
        "    knn.fit(X_train, y_train)\n",
        "    \n",
        "    # Update the training scores list\n",
        "    train_scores.append(knn.score(X_train, y_train))\n",
        "    \n",
        "    # Update the test scores list\n",
        "    test_scores.append(knn.score(X_test, y_test))"
      ],
      "metadata": {
        "id": "1wI-ScJd0O_3"
      },
      "execution_count": 123,
      "outputs": []
    },
    {
      "cell_type": "code",
      "source": [
        "plt.plot(neighbors, train_scores, label=\"Train score\")\n",
        "plt.plot(neighbors, test_scores, label=\"Test score\")\n",
        "plt.xticks(np.arange(1, 21, 1))\n",
        "plt.xlabel(\"Number of neighbors\")\n",
        "plt.ylabel(\"Model score\")\n",
        "plt.legend()\n",
        "\n",
        "print(f\"Maximum KNN score on the test data: {max(test_scores)*100:.2f}%\")"
      ],
      "metadata": {
        "colab": {
          "base_uri": "https://localhost:8080/",
          "height": 296
        },
        "id": "Pa5qxorh0mQz",
        "outputId": "a4b1e1f5-af5d-4ca1-f29b-dba293183d3b"
      },
      "execution_count": 124,
      "outputs": [
        {
          "output_type": "stream",
          "name": "stdout",
          "text": [
            "Maximum KNN score on the test data: 52.30%\n"
          ]
        },
        {
          "output_type": "display_data",
          "data": {
            "image/png": "[encoded data removed]",
            "text/plain": [
              "<Figure size 432x288 with 1 Axes>"
            ]
          },
          "metadata": {
            "needs_background": "light"
          }
        }
      ]
    },
    {
      "cell_type": "markdown",
      "source": [
        "# **Hyperparameter Tuning with RandomizedSearchCV**"
      ],
      "metadata": {
        "id": "KQwkKeMG00V9"
      }
    },
    {
      "cell_type": "code",
      "source": [
        ""
      ],
      "metadata": {
        "id": "fBgT6vTD04-G"
      },
      "execution_count": null,
      "outputs": []
    }
  ]
}